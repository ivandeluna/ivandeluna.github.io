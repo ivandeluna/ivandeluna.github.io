{
 "cells": [
  {
   "cell_type": "markdown",
   "metadata": {},
   "source": [
    "---\n",
    "title: \"Using Tensor Flow for Stock Price Prediction: A Practical Guide\"\n",
    "author: \"Iván de Luna-Aldape\"\n",
    "date: \"3/9/2025\"\n",
    "categories:\n",
    "    - machine-learning\n",
    "    - tutorial\n",
    "freeze: true\n",
    "draft: true\n",
    "---"
   ]
  },
  {
   "cell_type": "markdown",
   "metadata": {},
   "source": [
    "## Introduction to TensorFlow"
   ]
  },
  {
   "cell_type": "markdown",
   "metadata": {},
   "source": [
    "TensorFlow is an open-source machine learning framework developed by Google. It is widely used for building and training machine learning models, particularly deep learning models. TensorFlow provides a comprehensive ecosystem of tools, libraries, and community resources that make it easier to develop and deploy machine learning solutions.\n",
    "\n",
    "### Key Features of TensorFlow\n",
    "\n",
    "- **Flexibility**: TensorFlow supports both high-level APIs (like Keras) and low-level operations, making it suitable for beginners and experts alike.\n",
    "- **Scalability**: It can run on CPUs, GPUs, and even distributed systems for large-scale training.\n",
    "- **Ecosystem**: TensorFlow offers extensions like TensorFlow Like (for mobile devices), TensorFlow.js (for browser-based applications), and TensorFlow Extended (for production pipelines).\n",
    "\n",
    "### Applications of TensorFlow\n",
    "\n",
    "Tensor Flow is used in a wide range of domains, including:\n",
    "- **Computer Visio**: image classification, object detection, and facial recognition.\n",
    "- **Natural Language Processing (NLP)**: Text generation, sentiment analysis, and language translation.\n",
    "- **Finance and Business**: Stock price prediction, fraud detection, customer churn analysis, and sales forecasting.\n",
    "- **Healthcare**: Disease diagnosis, medical image analysis, and drug discovery."
   ]
  },
  {
   "cell_type": "markdown",
   "metadata": {},
   "source": [
    "## Stock Price Prediction Using TensorFlow"
   ]
  },
  {
   "cell_type": "markdown",
   "metadata": {},
   "source": [
    "Stock price prediction is a classical example and a challenging task due to the volatile and unpredictable nature of financial markets. However, machine learning models, particularly deep learning models like **Long Short-Term Memory (LSTM) networks**, can capture temporal patterns in historical data to make informed predictions."
   ]
  },
  {
   "cell_type": "markdown",
   "metadata": {},
   "source": [
    "#### Step 1: Downloading Data from Yahoo Finance"
   ]
  },
  {
   "cell_type": "markdown",
   "metadata": {},
   "source": [
    "To get started, we will use historical stock price data from Yahoo Finance. The `yfinance` library in Python makes it easy to download this data.\n",
    "\n",
    "When downloading data from yfinance, it includes columns like `Date`, `Open`, `High`, `Low`, `Close`, and `Volume`, from which usually for forecasting the `Close` data is used."
   ]
  },
  {
   "cell_type": "code",
   "execution_count": 1,
   "metadata": {},
   "outputs": [
    {
     "name": "stdout",
     "output_type": "stream",
     "text": [
      "YF.download() has changed argument auto_adjust default to True\n"
     ]
    },
    {
     "name": "stderr",
     "output_type": "stream",
     "text": [
      "[*********************100%***********************]  1 of 1 completed\n"
     ]
    }
   ],
   "source": [
    "import yfinance as yf\n",
    "\n",
    "# Download historical stock data for Apple Inc. (AAPL)\n",
    "data = yf.download('AAPL', start='2010-01-01', end='2025-01-01')"
   ]
  },
  {
   "cell_type": "markdown",
   "metadata": {},
   "source": [
    "In case `yfinance` shows an error about not donwloading the required data, try updating the library using the following command in the terminal:\n",
    "\n",
    "```Python\n",
    "pip install --upgrade yfinance\n",
    "```"
   ]
  },
  {
   "cell_type": "markdown",
   "metadata": {},
   "source": [
    "### Step 2: Preprocessing the Data"
   ]
  },
  {
   "cell_type": "markdown",
   "metadata": {},
   "source": [
    "Before feeding the data into a model, we need to preprocess it. This involves the following actions:\n",
    "\n",
    "- **Normalization**: Scaling the data to a range of 0 to 1 to improve model performance.\n",
    "- **Sequence Creation**: Creating input-output pairs where the input is a sequence of historical prices, and the output is the next day's price."
   ]
  },
  {
   "cell_type": "markdown",
   "metadata": {},
   "source": [
    "In order to normalize and create sequences, we need first to load the data, specifically the Closing prices, and then we convert it into a 2D array using the `reshape()` method."
   ]
  },
  {
   "cell_type": "code",
   "execution_count": 2,
   "metadata": {},
   "outputs": [],
   "source": [
    "import numpy as np\n",
    "import pandas as pd\n",
    "from sklearn.preprocessing import MinMaxScaler\n",
    "\n",
    "# Load the data\n",
    "prices = data['Close'].values.reshape(-1,1)\n"
   ]
  },
  {
   "cell_type": "markdown",
   "metadata": {},
   "source": [
    "Next we perform the normalization of the data using the `MinMaxScaler`, in which we scale the Closing prices to a range of 0 to 1. This is important because the LSTMs and other neural networks perform better with normalized data."
   ]
  },
  {
   "cell_type": "code",
   "execution_count": 4,
   "metadata": {},
   "outputs": [],
   "source": [
    "# Normalize the data\n",
    "scaler = MinMaxScaler(feature_range=(0,1))\n",
    "# When loading the data, the first value is the ticker name, in this case 'AAPL', and the second value is a NULL or Missing.\n",
    "scaled_prices = scaler.fit_transform(prices[2:])\n"
   ]
  },
  {
   "cell_type": "markdown",
   "metadata": {},
   "source": [
    "Now we define a function `create_sequences` to create input-output pairs of the LSTM model. \n",
    "\n",
    "For each day, the input `X` is a sequence of the previous `seq_length` days' prices, and the output `y` is the price of the next day.For example, if the `seq_length = 60`, the model will use 60 days of historical data to predict the 61st day's price.\n",
    "\n",
    "Finally, we split the data into training and testing sets, with 80% of the data used for training and 20% for testing."
   ]
  },
  {
   "cell_type": "code",
   "execution_count": 5,
   "metadata": {},
   "outputs": [],
   "source": [
    "# Create sequences for LSTM\n",
    "def create_sequences(data, seq_length):\n",
    "    X, y = [], []\n",
    "    for i in range(len(data) - seq_length):\n",
    "        X.append(data[i:i+seq_length])\n",
    "        y.append(data[i+seq_length])\n",
    "    return np.array(X), np.array(y)\n",
    "\n",
    "# Use 60 days of data to predict the next day\n",
    "seq_length = 60\n",
    "X, y = create_sequences(scaled_prices, seq_length)\n",
    "\n",
    "# Split into training and testing sets\n",
    "split = int(0.8 * len(X))\n",
    "X_train, X_test = X[:split], X[split:]\n",
    "y_train, y_test = y[:split], y[split:]"
   ]
  },
  {
   "cell_type": "markdown",
   "metadata": {},
   "source": [
    "### Step 3: Building and Training the LSTM Model"
   ]
  },
  {
   "cell_type": "markdown",
   "metadata": {},
   "source": [
    "LSTM networks are a type of Recurrent Neural Network (RNN) that are well-suited for time-series data."
   ]
  },
  {
   "cell_type": "markdown",
   "metadata": {},
   "source": [
    "1. **Model Architecture**\n",
    "\n",
    "We use the `Sequential`API to build the model layer by layer. The first LSTM layer has 50 units and returns sequences, which is necessary when stacking LSTM layers.\n",
    "\n",
    "The second LSTM layer also has 50 units but does not return sequences.\n",
    "\n",
    "Finally, two dense layers are added to produce the final output. The last dense layer has 1 unit, which corresponds to the predicted stock price."
   ]
  },
  {
   "cell_type": "code",
   "execution_count": null,
   "metadata": {},
   "outputs": [],
   "source": [
    "from tensorflow.keras.models import Sequential\n",
    "from tensorflow.keras.layers import LSTM, Dense\n",
    "\n",
    "# Build the LSTM Model\n",
    "model = Sequential([\n",
    "    LSTM(50, return_sequences=True, input_shape=(seq_length, 1)),\n",
    "    LSTM(50, return_sequences=False),\n",
    "    Dense(25),\n",
    "    Dense(1)\n",
    "])"
   ]
  },
  {
   "cell_type": "markdown",
   "metadata": {},
   "source": [
    "2. **Compilation**\n",
    "\n",
    "We compile the model using the Adam optimizer, which is a popular choice for training neural networks.\n",
    "\n",
    "The loss function is set to `mean_squared_error`, which measures the difference between the predicted and actual stock prices."
   ]
  },
  {
   "cell_type": "code",
   "execution_count": 1,
   "metadata": {},
   "outputs": [
    {
     "ename": "NameError",
     "evalue": "name 'model' is not defined",
     "output_type": "error",
     "traceback": [
      "\u001b[0;31m---------------------------------------------------------------------------\u001b[0m",
      "\u001b[0;31mNameError\u001b[0m                                 Traceback (most recent call last)",
      "\u001b[0;32m/var/folders/dp/hjbpmxsx7797vz0btvv75yh00000gn/T/ipykernel_80482/824038709.py\u001b[0m in \u001b[0;36m<module>\u001b[0;34m\u001b[0m\n\u001b[1;32m      1\u001b[0m \u001b[0;31m# Complie the model\u001b[0m\u001b[0;34m\u001b[0m\u001b[0;34m\u001b[0m\u001b[0m\n\u001b[0;32m----> 2\u001b[0;31m \u001b[0mmodel\u001b[0m\u001b[0;34m.\u001b[0m\u001b[0mcompile\u001b[0m\u001b[0;34m(\u001b[0m\u001b[0moptimizer\u001b[0m\u001b[0;34m=\u001b[0m\u001b[0;34m'adam'\u001b[0m\u001b[0;34m,\u001b[0m \u001b[0mloss\u001b[0m\u001b[0;34m=\u001b[0m\u001b[0;34m'mean_squared_error'\u001b[0m\u001b[0;34m)\u001b[0m\u001b[0;34m\u001b[0m\u001b[0;34m\u001b[0m\u001b[0m\n\u001b[0m",
      "\u001b[0;31mNameError\u001b[0m: name 'model' is not defined"
     ]
    }
   ],
   "source": [
    "# Complie the model\n",
    "model.compile(optimizer='adam', loss='mean_squared_error')"
   ]
  },
  {
   "cell_type": "markdown",
   "metadata": {},
   "source": [
    "3. **Training**\n",
    "\n",
    "The model is trained on the training data (`X_train` and `y_train`) for 20 epochs. The batch size is set to 32, meaning the model updates its weights after processing 32 samples. Lastly, the `validation_data`parameter allows us to evaluate the model on the test set after each epoch."
   ]
  },
  {
   "cell_type": "code",
   "execution_count": null,
   "metadata": {},
   "outputs": [],
   "source": [
    "# Train the model\n",
    "model.fit(X_train, y_train, batch_size=32, epochs=20, validation_data=(X_test, y_test))"
   ]
  },
  {
   "cell_type": "markdown",
   "metadata": {},
   "source": [
    "### Step 4: Making Predictions"
   ]
  },
  {
   "cell_type": "markdown",
   "metadata": {},
   "source": [
    "Once the model is trained, we can use it to predict future stock prices and visualize the results."
   ]
  },
  {
   "cell_type": "code",
   "execution_count": null,
   "metadata": {},
   "outputs": [],
   "source": [
    "# Make predictions\n",
    "predictions = model.predict(X_test)\n",
    "# Reverse normalization\n",
    "predictions = scaler.inverse_transform(predictions)\n",
    "# Reverse normalization for actual values\n",
    "y_test_actual = scaler.inverse_transform(y_test)"
   ]
  },
  {
   "cell_type": "code",
   "execution_count": null,
   "metadata": {},
   "outputs": [],
   "source": [
    "# Visualize the results\n",
    "import matplotlib.pyplot as plt\n",
    "\n",
    "plt.figure(figsize=(14,5))\n",
    "plt.plot(y_test_actual, color = 'blue', label = 'Actual Stock Price')\n",
    "plt.plot(predictions, color='red', label='Predicted Stock Price')\n",
    "plt.title('Stock Price Prediction')\n",
    "plt.xlabel('Time')\n",
    "plt.ylabel('Stock Price')\n",
    "plt.legen()\n",
    "plt.show()"
   ]
  },
  {
   "cell_type": "markdown",
   "metadata": {},
   "source": [
    "### Considerations and Key Insights"
   ]
  }
 ],
 "metadata": {
  "kernelspec": {
   "display_name": "base",
   "language": "python",
   "name": "python3"
  },
  "language_info": {
   "codemirror_mode": {
    "name": "ipython",
    "version": 3
   },
   "file_extension": ".py",
   "mimetype": "text/x-python",
   "name": "python",
   "nbconvert_exporter": "python",
   "pygments_lexer": "ipython3",
   "version": "3.9.13"
  }
 },
 "nbformat": 4,
 "nbformat_minor": 2
}
